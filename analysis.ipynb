{
 "cells": [
  {
   "cell_type": "code",
   "id": "initial_id",
   "metadata": {
    "collapsed": true,
    "ExecuteTime": {
     "end_time": "2025-03-13T21:46:41.955195Z",
     "start_time": "2025-03-13T21:46:41.947751Z"
    }
   },
   "source": [
    "from utils.preprocessing import BasicPreprocessPipeline\n",
    "from scipy.stats import iqr\n",
    "import pandas as pd\n",
    "import seaborn as sns\n",
    "import matplotlib.pyplot as plt\n",
    "from IPython.display import display"
   ],
   "outputs": [],
   "execution_count": 22
  },
  {
   "metadata": {
    "ExecuteTime": {
     "end_time": "2025-03-13T21:39:12.610564Z",
     "start_time": "2025-03-13T21:39:12.607750Z"
    }
   },
   "cell_type": "code",
   "source": "pd.set_option('display.max_columns', 50)",
   "id": "dbaf747cab114cc1",
   "outputs": [],
   "execution_count": 20
  },
  {
   "metadata": {},
   "cell_type": "code",
   "source": [
    "df_test = BasicPreprocessPipeline.run(pd.read_csv('data/sales_ads_test.csv'))\n",
    "df_train = BasicPreprocessPipeline.run(pd.read_csv('data/sales_ads_train.csv'))\n",
    "len(df_test), len(df_train)"
   ],
   "id": "b72bdeb22662b6fb",
   "outputs": [],
   "execution_count": null
  },
  {
   "metadata": {},
   "cell_type": "code",
   "source": [
    "# Distribution of the price\n",
    "plt.show(sns.displot(df_train.Cena))\n",
    "print(f\"Median : {df_train.Cena.quantile(0.5)}\")\n",
    "print(f\"Quantile 90% : {df_train.Cena.quantile(0.9)}\")\n",
    "print(f\"Top 10 : {df_train.Cena.sort_values(ascending=False).head(10).to_numpy()}\")"
   ],
   "id": "1e6de3d96cc0616e",
   "outputs": [],
   "execution_count": null
  },
  {
   "metadata": {},
   "cell_type": "code",
   "source": [
    "display(df_train.sort_values('Cena', ascending=False).head(2))  # The most severe ones\n",
    "print(f\"Average McLaren price : {df_train.groupby('Marka_pojazdu').agg({'Cena': 'mean'}).loc['McLaren', 'Cena']}\")"
   ],
   "id": "c7cc6ea7a35d2f6b",
   "outputs": [],
   "execution_count": null
  },
  {
   "metadata": {},
   "cell_type": "markdown",
   "source": [
    "Notes are that data is very skewed to the left. There are a few extreme target outliers, \n",
    "which will be hard to tackle during prediction (probable premium car brands).\n",
    "Since top 2 cars are 3 times more expensive than the rest most expensive cars, they should\n",
    "be excluded. They are too big of an outlier. Without augmentation it would be extremely hard\n",
    "to take them into account. "
   ],
   "id": "e142df5f202b168c"
  },
  {
   "metadata": {
    "ExecuteTime": {
     "end_time": "2025-03-13T21:35:58.332120Z",
     "start_time": "2025-03-13T21:35:58.002270Z"
    }
   },
   "cell_type": "code",
   "source": [
    "plt.show(sns.displot(df_train.Moc_KM))\n",
    "print(f\"Top 10 horse power : {df_train.Moc_KM.sort_values(ascending=False).head(5).to_list()}\")\n",
    "print(f\"Top 10 horse power (Test) : {df_test.Moc_KM.sort_values(ascending=False).head(5).to_list()}\")\n",
    "print(f\"Top 10 horse power (Brands) : {df_train.sort_values('Moc_KM', ascending=False).Marka_pojazdu.head(5).to_list()}\")"
   ],
   "id": "d8fa441beac1c290",
   "outputs": [
    {
     "data": {
      "text/plain": [
       "<Figure size 500x500 with 1 Axes>"
      ],
      "image/png": "[encoded data removed]"
     },
     "metadata": {},
     "output_type": "display_data"
    },
    {
     "name": "stdout",
     "output_type": "stream",
     "text": [
      "Top 10 horse power : [1398.0, 1236.0, 1203.0, 1111.0, 1111.0]\n",
      "Top 10 horse power (Test) : [1398.0, 1300.0, 1236.0, 1115.0, 1000.0]\n",
      "Top 10 horse power (Brands) : ['Volkswagen', 'Bentley', 'Renault', 'Ford', 'Buick']\n"
     ]
    }
   ],
   "execution_count": 15
  },
  {
   "metadata": {
    "ExecuteTime": {
     "end_time": "2025-03-13T21:57:48.894952Z",
     "start_time": "2025-03-13T21:57:48.429796Z"
    }
   },
   "cell_type": "code",
   "source": [
    "display(df_test.sort_values('Moc_KM', ascending=False).head(3))\n",
    "display(df_train.sort_values('Moc_KM', ascending=False).head(3))\n",
    "print(f\"IQR based range {df_test.Moc_KM.quantile(0.25) - 1.5 * iqr(df_test.Moc_KM.values, nan_policy='omit')} : {df_test.Moc_KM.quantile(0.75) + 1.5 * iqr(df_test.Moc_KM.values, nan_policy='omit')}\")\n",
    "sns.lmplot(x=\"Moc_KM\", y=\"Cena\", data=df_train, ci=None)"
   ],
   "id": "42f00652f0bfb34",
   "outputs": [
    {
     "data": {
      "text/plain": [
       "          ID Waluta  Stan Marka_pojazdu Model_pojazdu Wersja_pojazdu  \\\n",
       "50072  50073    PLN  Used     Chevrolet          Volt            NaN   \n",
       "46536  46537    PLN  Used        Suzuki  Grand Vitara            NaN   \n",
       "48987  48988    PLN  Used       Bentley         Other            NaN   \n",
       "\n",
       "      Generacja_pojazdu  Rok_produkcji  Przebieg_km  Moc_KM  Pojemnosc_cm3  \\\n",
       "50072               NaN           2016      44600.0  1398.0            NaN   \n",
       "46536    II (2005-2014)           2007     212000.0  1300.0         1997.0   \n",
       "48987               NaN           1970      77000.0  1236.0         6700.0   \n",
       "\n",
       "      Rodzaj_paliwa  Emisja_CO2                    Naped Skrzynia_biegow  \\\n",
       "50072      Electric         NaN                      NaN       Automatic   \n",
       "46536        Diesel         NaN  4x4 (attached manually)          Manual   \n",
       "48987      Gasoline         NaN                      NaN       Automatic   \n",
       "\n",
       "      Typ_nadwozia  Liczba_drzwi  Kolor Kraj_pochodzenia Pierwszy_wlasciciel  \\\n",
       "50072        sedan           5.0    red    United States                 NaN   \n",
       "46536          SUV           5.0  black              NaN                 NaN   \n",
       "48987        sedan           4.0  other              NaN                 NaN   \n",
       "\n",
       "      Data_pierwszej_rejestracji Data_publikacji_oferty  \\\n",
       "50072                 01/01/2017             2021-04-27   \n",
       "46536                        NaN             2021-04-25   \n",
       "48987                        NaN             2021-01-05   \n",
       "\n",
       "                                      Lokalizacja_oferty  \\\n",
       "50072  Bezrzecze, gm. Dobra (Szczecińska), policki, Z...   \n",
       "46536                          Biała Podlaska, Lubelskie   \n",
       "48987         Starogard Gdański, starogardzki, Pomorskie   \n",
       "\n",
       "                                             Wyposazenie  Wiek_oferty  \n",
       "50072  [ABS, Electrically adjustable mirrors, Passeng...        221.0  \n",
       "46536  [ABS, Electric front windows, Drivers airbag, ...        223.0  \n",
       "48987  [ABS, Power steering, Leather upholstery, Elec...        333.0  "
      ],
      "text/html": [
       "<div>\n",
       "<style scoped>\n",
       "    .dataframe tbody tr th:only-of-type {\n",
       "        vertical-align: middle;\n",
       "    }\n",
       "\n",
       "    .dataframe tbody tr th {\n",
       "        vertical-align: top;\n",
       "    }\n",
       "\n",
       "    .dataframe thead th {\n",
       "        text-align: right;\n",
       "    }\n",
       "</style>\n",
       "<table border=\"1\" class=\"dataframe\">\n",
       "  <thead>\n",
       "    <tr style=\"text-align: right;\">\n",
       "      <th></th>\n",
       "      <th>ID</th>\n",
       "      <th>Waluta</th>\n",
       "      <th>Stan</th>\n",
       "      <th>Marka_pojazdu</th>\n",
       "      <th>Model_pojazdu</th>\n",
       "      <th>Wersja_pojazdu</th>\n",
       "      <th>Generacja_pojazdu</th>\n",
       "      <th>Rok_produkcji</th>\n",
       "      <th>Przebieg_km</th>\n",
       "      <th>Moc_KM</th>\n",
       "      <th>Pojemnosc_cm3</th>\n",
       "      <th>Rodzaj_paliwa</th>\n",
       "      <th>Emisja_CO2</th>\n",
       "      <th>Naped</th>\n",
       "      <th>Skrzynia_biegow</th>\n",
       "      <th>Typ_nadwozia</th>\n",
       "      <th>Liczba_drzwi</th>\n",
       "      <th>Kolor</th>\n",
       "      <th>Kraj_pochodzenia</th>\n",
       "      <th>Pierwszy_wlasciciel</th>\n",
       "      <th>Data_pierwszej_rejestracji</th>\n",
       "      <th>Data_publikacji_oferty</th>\n",
       "      <th>Lokalizacja_oferty</th>\n",
       "      <th>Wyposazenie</th>\n",
       "      <th>Wiek_oferty</th>\n",
       "    </tr>\n",
       "  </thead>\n",
       "  <tbody>\n",
       "    <tr>\n",
       "      <th>50072</th>\n",
       "      <td>50073</td>\n",
       "      <td>PLN</td>\n",
       "      <td>Used</td>\n",
       "      <td>Chevrolet</td>\n",
       "      <td>Volt</td>\n",
       "      <td>NaN</td>\n",
       "      <td>NaN</td>\n",
       "      <td>2016</td>\n",
       "      <td>44600.0</td>\n",
       "      <td>1398.0</td>\n",
       "      <td>NaN</td>\n",
       "      <td>Electric</td>\n",
       "      <td>NaN</td>\n",
       "      <td>NaN</td>\n",
       "      <td>Automatic</td>\n",
       "      <td>sedan</td>\n",
       "      <td>5.0</td>\n",
       "      <td>red</td>\n",
       "      <td>United States</td>\n",
       "      <td>NaN</td>\n",
       "      <td>01/01/2017</td>\n",
       "      <td>2021-04-27</td>\n",
       "      <td>Bezrzecze, gm. Dobra (Szczecińska), policki, Z...</td>\n",
       "      <td>[ABS, Electrically adjustable mirrors, Passeng...</td>\n",
       "      <td>221.0</td>\n",
       "    </tr>\n",
       "    <tr>\n",
       "      <th>46536</th>\n",
       "      <td>46537</td>\n",
       "      <td>PLN</td>\n",
       "      <td>Used</td>\n",
       "      <td>Suzuki</td>\n",
       "      <td>Grand Vitara</td>\n",
       "      <td>NaN</td>\n",
       "      <td>II (2005-2014)</td>\n",
       "      <td>2007</td>\n",
       "      <td>212000.0</td>\n",
       "      <td>1300.0</td>\n",
       "      <td>1997.0</td>\n",
       "      <td>Diesel</td>\n",
       "      <td>NaN</td>\n",
       "      <td>4x4 (attached manually)</td>\n",
       "      <td>Manual</td>\n",
       "      <td>SUV</td>\n",
       "      <td>5.0</td>\n",
       "      <td>black</td>\n",
       "      <td>NaN</td>\n",
       "      <td>NaN</td>\n",
       "      <td>NaN</td>\n",
       "      <td>2021-04-25</td>\n",
       "      <td>Biała Podlaska, Lubelskie</td>\n",
       "      <td>[ABS, Electric front windows, Drivers airbag, ...</td>\n",
       "      <td>223.0</td>\n",
       "    </tr>\n",
       "    <tr>\n",
       "      <th>48987</th>\n",
       "      <td>48988</td>\n",
       "      <td>PLN</td>\n",
       "      <td>Used</td>\n",
       "      <td>Bentley</td>\n",
       "      <td>Other</td>\n",
       "      <td>NaN</td>\n",
       "      <td>NaN</td>\n",
       "      <td>1970</td>\n",
       "      <td>77000.0</td>\n",
       "      <td>1236.0</td>\n",
       "      <td>6700.0</td>\n",
       "      <td>Gasoline</td>\n",
       "      <td>NaN</td>\n",
       "      <td>NaN</td>\n",
       "      <td>Automatic</td>\n",
       "      <td>sedan</td>\n",
       "      <td>4.0</td>\n",
       "      <td>other</td>\n",
       "      <td>NaN</td>\n",
       "      <td>NaN</td>\n",
       "      <td>NaN</td>\n",
       "      <td>2021-01-05</td>\n",
       "      <td>Starogard Gdański, starogardzki, Pomorskie</td>\n",
       "      <td>[ABS, Power steering, Leather upholstery, Elec...</td>\n",
       "      <td>333.0</td>\n",
       "    </tr>\n",
       "  </tbody>\n",
       "</table>\n",
       "</div>"
      ]
     },
     "metadata": {},
     "output_type": "display_data"
    },
    {
     "data": {
      "text/plain": [
       "            ID      Cena Waluta  Stan Marka_pojazdu Model_pojazdu  \\\n",
       "132975  132976  190199.0    PLN   New    Volkswagen        Passat   \n",
       "86447    86448   55900.0    NaN  Used       Bentley         Other   \n",
       "124210  124211    6600.0    PLN  Used       Renault        Espace   \n",
       "\n",
       "       Wersja_pojazdu Generacja_pojazdu  Rok_produkcji  Przebieg_km  Moc_KM  \\\n",
       "132975            NaN        B8 (2014-)         2021.0          1.0  1398.0   \n",
       "86447             NaN               NaN            NaN      77000.0  1236.0   \n",
       "124210            NaN               NaN         2007.0     191874.0  1203.0   \n",
       "\n",
       "        Pojemnosc_cm3 Rodzaj_paliwa  Emisja_CO2         Naped Skrzynia_biegow  \\\n",
       "132975            NaN        Hybrid         NaN  Front wheels       Automatic   \n",
       "86447          6700.0      Gasoline         NaN           NaN       Automatic   \n",
       "124210         1900.0        Diesel         NaN  Front wheels          Manual   \n",
       "\n",
       "       Typ_nadwozia  Liczba_drzwi  Kolor Kraj_pochodzenia Pierwszy_wlasciciel  \\\n",
       "132975        sedan           5.0  black              NaN                 NaN   \n",
       "86447         sedan           4.0  other              NaN                 NaN   \n",
       "124210      minivan           5.0   blue              NaN                 Yes   \n",
       "\n",
       "       Data_pierwszej_rejestracji Data_publikacji_oferty  \\\n",
       "132975                        NaN             2021-04-30   \n",
       "86447                         NaN             2021-01-05   \n",
       "124210                        NaN             2021-04-26   \n",
       "\n",
       "                                       Lokalizacja_oferty  \\\n",
       "132975  ul. Radzymińska 78 - 03-752 Warszawa, Praga-Pó...   \n",
       "86447          Starogard Gdański, starogardzki, Pomorskie   \n",
       "124210  Staszica 2 - 64-030 Śmigiel, kościański, Wielk...   \n",
       "\n",
       "                                              Wyposazenie  Wiek_oferty  \n",
       "132975  [ABS, Twilight sensor, Isofix, On-board comput...        218.0  \n",
       "86447   [ABS, Power steering, Leather upholstery, Elec...        333.0  \n",
       "124210  [ABS, CD, Twilight sensor, ESP(stabilization o...        222.0  "
      ],
      "text/html": [
       "<div>\n",
       "<style scoped>\n",
       "    .dataframe tbody tr th:only-of-type {\n",
       "        vertical-align: middle;\n",
       "    }\n",
       "\n",
       "    .dataframe tbody tr th {\n",
       "        vertical-align: top;\n",
       "    }\n",
       "\n",
       "    .dataframe thead th {\n",
       "        text-align: right;\n",
       "    }\n",
       "</style>\n",
       "<table border=\"1\" class=\"dataframe\">\n",
       "  <thead>\n",
       "    <tr style=\"text-align: right;\">\n",
       "      <th></th>\n",
       "      <th>ID</th>\n",
       "      <th>Cena</th>\n",
       "      <th>Waluta</th>\n",
       "      <th>Stan</th>\n",
       "      <th>Marka_pojazdu</th>\n",
       "      <th>Model_pojazdu</th>\n",
       "      <th>Wersja_pojazdu</th>\n",
       "      <th>Generacja_pojazdu</th>\n",
       "      <th>Rok_produkcji</th>\n",
       "      <th>Przebieg_km</th>\n",
       "      <th>Moc_KM</th>\n",
       "      <th>Pojemnosc_cm3</th>\n",
       "      <th>Rodzaj_paliwa</th>\n",
       "      <th>Emisja_CO2</th>\n",
       "      <th>Naped</th>\n",
       "      <th>Skrzynia_biegow</th>\n",
       "      <th>Typ_nadwozia</th>\n",
       "      <th>Liczba_drzwi</th>\n",
       "      <th>Kolor</th>\n",
       "      <th>Kraj_pochodzenia</th>\n",
       "      <th>Pierwszy_wlasciciel</th>\n",
       "      <th>Data_pierwszej_rejestracji</th>\n",
       "      <th>Data_publikacji_oferty</th>\n",
       "      <th>Lokalizacja_oferty</th>\n",
       "      <th>Wyposazenie</th>\n",
       "      <th>Wiek_oferty</th>\n",
       "    </tr>\n",
       "  </thead>\n",
       "  <tbody>\n",
       "    <tr>\n",
       "      <th>132975</th>\n",
       "      <td>132976</td>\n",
       "      <td>190199.0</td>\n",
       "      <td>PLN</td>\n",
       "      <td>New</td>\n",
       "      <td>Volkswagen</td>\n",
       "      <td>Passat</td>\n",
       "      <td>NaN</td>\n",
       "      <td>B8 (2014-)</td>\n",
       "      <td>2021.0</td>\n",
       "      <td>1.0</td>\n",
       "      <td>1398.0</td>\n",
       "      <td>NaN</td>\n",
       "      <td>Hybrid</td>\n",
       "      <td>NaN</td>\n",
       "      <td>Front wheels</td>\n",
       "      <td>Automatic</td>\n",
       "      <td>sedan</td>\n",
       "      <td>5.0</td>\n",
       "      <td>black</td>\n",
       "      <td>NaN</td>\n",
       "      <td>NaN</td>\n",
       "      <td>NaN</td>\n",
       "      <td>2021-04-30</td>\n",
       "      <td>ul. Radzymińska 78 - 03-752 Warszawa, Praga-Pó...</td>\n",
       "      <td>[ABS, Twilight sensor, Isofix, On-board comput...</td>\n",
       "      <td>218.0</td>\n",
       "    </tr>\n",
       "    <tr>\n",
       "      <th>86447</th>\n",
       "      <td>86448</td>\n",
       "      <td>55900.0</td>\n",
       "      <td>NaN</td>\n",
       "      <td>Used</td>\n",
       "      <td>Bentley</td>\n",
       "      <td>Other</td>\n",
       "      <td>NaN</td>\n",
       "      <td>NaN</td>\n",
       "      <td>NaN</td>\n",
       "      <td>77000.0</td>\n",
       "      <td>1236.0</td>\n",
       "      <td>6700.0</td>\n",
       "      <td>Gasoline</td>\n",
       "      <td>NaN</td>\n",
       "      <td>NaN</td>\n",
       "      <td>Automatic</td>\n",
       "      <td>sedan</td>\n",
       "      <td>4.0</td>\n",
       "      <td>other</td>\n",
       "      <td>NaN</td>\n",
       "      <td>NaN</td>\n",
       "      <td>NaN</td>\n",
       "      <td>2021-01-05</td>\n",
       "      <td>Starogard Gdański, starogardzki, Pomorskie</td>\n",
       "      <td>[ABS, Power steering, Leather upholstery, Elec...</td>\n",
       "      <td>333.0</td>\n",
       "    </tr>\n",
       "    <tr>\n",
       "      <th>124210</th>\n",
       "      <td>124211</td>\n",
       "      <td>6600.0</td>\n",
       "      <td>PLN</td>\n",
       "      <td>Used</td>\n",
       "      <td>Renault</td>\n",
       "      <td>Espace</td>\n",
       "      <td>NaN</td>\n",
       "      <td>NaN</td>\n",
       "      <td>2007.0</td>\n",
       "      <td>191874.0</td>\n",
       "      <td>1203.0</td>\n",
       "      <td>1900.0</td>\n",
       "      <td>Diesel</td>\n",
       "      <td>NaN</td>\n",
       "      <td>Front wheels</td>\n",
       "      <td>Manual</td>\n",
       "      <td>minivan</td>\n",
       "      <td>5.0</td>\n",
       "      <td>blue</td>\n",
       "      <td>NaN</td>\n",
       "      <td>Yes</td>\n",
       "      <td>NaN</td>\n",
       "      <td>2021-04-26</td>\n",
       "      <td>Staszica 2 - 64-030 Śmigiel, kościański, Wielk...</td>\n",
       "      <td>[ABS, CD, Twilight sensor, ESP(stabilization o...</td>\n",
       "      <td>222.0</td>\n",
       "    </tr>\n",
       "  </tbody>\n",
       "</table>\n",
       "</div>"
      ]
     },
     "metadata": {},
     "output_type": "display_data"
    },
    {
     "name": "stdout",
     "output_type": "stream",
     "text": [
      "IQR based range 6.0 : 270.0\n"
     ]
    },
    {
     "data": {
      "text/plain": [
       "<seaborn.axisgrid.FacetGrid at 0x35aa4e710>"
      ]
     },
     "execution_count": 34,
     "metadata": {},
     "output_type": "execute_result"
    },
    {
     "data": {
      "text/plain": [
       "<Figure size 500x500 with 1 Axes>"
      ],
      "image/png": "[encoded data removed]"
     },
     "metadata": {},
     "output_type": "display_data"
    }
   ],
   "execution_count": 34
  },
  {
   "metadata": {},
   "cell_type": "markdown",
   "source": [
    "There are Suzuki and Passat with extreme horse power values, which suggests the model should be robust to\n",
    "outliers. Although, some values could be capped by IQR, it is very risky as it creates potential information loss.\n",
    "Maybe log transformation would be better? Or blindly capping the value to e.g. 800-1_000 based on\n",
    "the regression line.<br/><br/>\n",
    "Finally, it can be seen that correlation between price and power is decent."
   ],
   "id": "6a07d9eb8a5cc70a"
  },
  {
   "metadata": {
    "ExecuteTime": {
     "end_time": "2025-03-13T22:14:35.372342Z",
     "start_time": "2025-03-13T22:14:34.737096Z"
    }
   },
   "cell_type": "code",
   "source": [
    "print(f\"Top 10 mileage : {df_train.Przebieg_km.sort_values(ascending=False).head(5).to_list()}\")\n",
    "print(f\"Top 10 mileage (Test): {df_test.Przebieg_km.sort_values(ascending=False).head(5).to_list()}\")\n",
    "print(f\"Top 10 mileage : {df_train.sort_values('Przebieg_km', ascending=False).Przebieg_km.head(5).to_list()}\")\n",
    "print(f\"Quantile 90% mileage : {df_train.Przebieg_km.quantile(0.9)}\")\n",
    "print(f\"IQR based range {df_train.Przebieg_km.quantile(0.25) - 1.5 * iqr(df_train.Przebieg_km.values, nan_policy='omit')} : {df_train.Przebieg_km.quantile(0.75) + 1.5 * iqr(df_train.Przebieg_km.values, nan_policy='omit')}\")\n",
    "max_value = df_train.Przebieg_km.quantile(0.75) + 1.5 * iqr(df_train.Przebieg_km.values, nan_policy='omit')\n",
    "print(f\"Amount of IQR outliers : {df_train[df_train.Przebieg_km > max_value].shape[0]}\")\n",
    "sns.lmplot(x=\"Przebieg_km\", y=\"Cena\", data=df_train, ci=None)  # Ci will look ridiculous here\n",
    "df_train.loc[:, 'Przebieg_km_capped'] = df_train.Przebieg_km.to_numpy()\n",
    "df_train.loc[df_train.Przebieg_km > max_value, 'Przebieg_km_capped'] = max_value\n",
    "sns.lmplot(x=\"Przebieg_km_capped\", y=\"Cena\", data=df_train, ci=None, line_kws={'color': 'red'})\n",
    "df_train.drop(columns='Przebieg_km_capped', inplace=True)"
   ],
   "id": "68dc10dc3f46a1a8",
   "outputs": [
    {
     "name": "stdout",
     "output_type": "stream",
     "text": [
      "Top 10 mileage : [1111111111.0, 500000000.0, 206549168.0, 99999999.0, 11111111.0]\n",
      "Top 10 mileage (Test): [500000000.0, 10000000.0, 9999999.0, 2930000.0, 2819436.0]\n",
      "Top 10 mileage : [1111111111.0, 500000000.0, 206549168.0, 99999999.0, 11111111.0]\n",
      "Quantile 90% mileage : 260000.0\n",
      "IQR based range -176500.0 : 435500.0\n",
      "Amount of IQR outliers : 380\n"
     ]
    },
    {
     "data": {
      "text/plain": [
       "<Figure size 500x500 with 1 Axes>"
      ],
      "image/png": "[encoded data removed]"
     },
     "metadata": {},
     "output_type": "display_data"
    },
    {
     "data": {
      "text/plain": [
       "<Figure size 500x500 with 1 Axes>"
      ],
      "image/png": "[encoded data removed]"
     },
     "metadata": {},
     "output_type": "display_data"
    }
   ],
   "execution_count": 40
  },
  {
   "metadata": {},
   "cell_type": "markdown",
   "source": [
    "Here, on the other hand cutting the mileage based on the IQR might work. It can be seen that outliers are so big\n",
    "that is hard to see the correlation. After capping the value correlation is much clearer and it can be seen\n",
    "that for larger values of mileage it is decent.<br/></br>\n",
    "Nonetheless, it will not help with small values."
   ],
   "id": "7997a7622f4bafeb"
  },
  {
   "metadata": {},
   "cell_type": "code",
   "outputs": [],
   "execution_count": null,
   "source": [
    "plt.show(sns.displot(df_train.Rok_produkcji))\n",
    "print(f\"Top 10 age : {df_train.Rok_produkcji.sort_values().head(5).to_list()}\")\n",
    "print(f\"Top 10 age brands : {df_train.sort_values('Rok_produkcji', ascending=False).Marka_pojazdu.head(5).to_list()}\")"
   ],
   "id": "fe8cec94581c2238"
  },
  {
   "metadata": {},
   "cell_type": "code",
   "source": "df_train.sort_values('Moc_KM', ascending=False).head(5)",
   "id": "63c11ccb44260c5a",
   "outputs": [],
   "execution_count": null
  },
  {
   "metadata": {},
   "cell_type": "code",
   "source": "",
   "id": "60140f1dac59be3d",
   "outputs": [],
   "execution_count": null
  }
 ],
 "metadata": {
  "kernelspec": {
   "display_name": "Python 3",
   "language": "python",
   "name": "python3"
  },
  "language_info": {
   "codemirror_mode": {
    "name": "ipython",
    "version": 2
   },
   "file_extension": ".py",
   "mimetype": "text/x-python",
   "name": "python",
   "nbconvert_exporter": "python",
   "pygments_lexer": "ipython2",
   "version": "2.7.6"
  }
 },
 "nbformat": 4,
 "nbformat_minor": 5
}
